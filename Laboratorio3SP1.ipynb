{
  "nbformat": 4,
  "nbformat_minor": 0,
  "metadata": {
    "colab": {
      "name": "Laboratorio3SP1.ipynb",
      "provenance": []
    },
    "kernelspec": {
      "name": "python3",
      "display_name": "Python 3"
    }
  },
  "cells": [
    {
      "cell_type": "markdown",
      "metadata": {
        "id": "gTyRUYHsofMf",
        "colab_type": "text"
      },
      "source": [
        "# Imports"
      ]
    },
    {
      "cell_type": "code",
      "metadata": {
        "id": "NdEh7xDsoyKU",
        "colab_type": "code",
        "outputId": "5cf7af7f-7020-40a2-b26f-e2e39b807f11",
        "colab": {
          "base_uri": "https://localhost:8080/",
          "height": 34
        }
      },
      "source": [
        "%tensorflow_version 2.x\n",
        "\n",
        "import tensorflow as tf\n",
        "import tensorflow_hub as hub\n",
        "\n",
        "from tensorflow.keras.preprocessing.text import Tokenizer\n",
        "from tensorflow.keras.preprocessing.sequence import pad_sequences\n",
        "\n",
        "from tensorflow.keras.models import Sequential\n",
        "from tensorflow.keras.layers import Dense, Embedding, Flatten, GlobalAveragePooling1D\n",
        "\n",
        "import numpy as np\n",
        "import pandas as pd\n",
        "import matplotlib.pylab as plt\n",
        "import os, re, json, functools\n",
        "\n",
        "seed=1998\n",
        "np.random.seed(seed)\n",
        "tf.random.set_seed(seed)"
      ],
      "execution_count": 3,
      "outputs": [
        {
          "output_type": "stream",
          "text": [
            "TensorFlow 2.x selected.\n"
          ],
          "name": "stdout"
        }
      ]
    },
    {
      "cell_type": "code",
      "metadata": {
        "id": "ahGJNDvHvNST",
        "colab_type": "code",
        "outputId": "7d2fc2c4-fe0b-45a6-9b9d-cf4674a7ce89",
        "colab": {
          "base_uri": "https://localhost:8080/",
          "height": 476
        }
      },
      "source": [
        "!pip install kaggle --upgrade"
      ],
      "execution_count": 4,
      "outputs": [
        {
          "output_type": "stream",
          "text": [
            "Requirement already up-to-date: kaggle in /usr/local/lib/python3.6/dist-packages (1.5.6)\n",
            "Requirement already satisfied, skipping upgrade: tqdm in /usr/local/lib/python3.6/dist-packages (from kaggle) (4.28.1)\n",
            "Requirement already satisfied, skipping upgrade: certifi in /tensorflow-2.1.0/python3.6 (from kaggle) (2019.11.28)\n",
            "Requirement already satisfied, skipping upgrade: python-dateutil in /usr/local/lib/python3.6/dist-packages (from kaggle) (2.6.1)\n",
            "Requirement already satisfied, skipping upgrade: python-slugify in /usr/local/lib/python3.6/dist-packages (from kaggle) (4.0.0)\n",
            "Requirement already satisfied, skipping upgrade: requests in /tensorflow-2.1.0/python3.6 (from kaggle) (2.22.0)\n",
            "Collecting urllib3<1.25,>=1.21.1\n",
            "\u001b[?25l  Downloading https://files.pythonhosted.org/packages/01/11/525b02e4acc0c747de8b6ccdab376331597c569c42ea66ab0a1dbd36eca2/urllib3-1.24.3-py2.py3-none-any.whl (118kB)\n",
            "\r\u001b[K     |██▊                             | 10kB 18.6MB/s eta 0:00:01\r\u001b[K     |█████▌                          | 20kB 6.3MB/s eta 0:00:01\r\u001b[K     |████████▎                       | 30kB 7.0MB/s eta 0:00:01\r\u001b[K     |███████████                     | 40kB 5.6MB/s eta 0:00:01\r\u001b[K     |█████████████▉                  | 51kB 6.1MB/s eta 0:00:01\r\u001b[K     |████████████████▌               | 61kB 7.2MB/s eta 0:00:01\r\u001b[K     |███████████████████▎            | 71kB 7.8MB/s eta 0:00:01\r\u001b[K     |██████████████████████          | 81kB 6.7MB/s eta 0:00:01\r\u001b[K     |████████████████████████▉       | 92kB 7.4MB/s eta 0:00:01\r\u001b[K     |███████████████████████████▋    | 102kB 8.1MB/s eta 0:00:01\r\u001b[K     |██████████████████████████████▍ | 112kB 8.1MB/s eta 0:00:01\r\u001b[K     |████████████████████████████████| 122kB 8.1MB/s \n",
            "\u001b[?25hRequirement already satisfied, skipping upgrade: six>=1.10 in /tensorflow-2.1.0/python3.6 (from kaggle) (1.13.0)\n",
            "Requirement already satisfied, skipping upgrade: text-unidecode>=1.3 in /usr/local/lib/python3.6/dist-packages (from python-slugify->kaggle) (1.3)\n",
            "Requirement already satisfied, skipping upgrade: idna<2.9,>=2.5 in /tensorflow-2.1.0/python3.6 (from requests->kaggle) (2.8)\n",
            "Requirement already satisfied, skipping upgrade: chardet<3.1.0,>=3.0.2 in /tensorflow-2.1.0/python3.6 (from requests->kaggle) (3.0.4)\n",
            "\u001b[31mERROR: google-colab 1.0.0 has requirement google-auth~=1.4.0, but you'll have google-auth 1.10.0 which is incompatible.\u001b[0m\n",
            "\u001b[31mERROR: google-colab 1.0.0 has requirement requests~=2.21.0, but you'll have requests 2.22.0 which is incompatible.\u001b[0m\n",
            "\u001b[31mERROR: google-colab 1.0.0 has requirement six~=1.12.0, but you'll have six 1.13.0 which is incompatible.\u001b[0m\n",
            "\u001b[31mERROR: datascience 0.10.6 has requirement folium==0.2.1, but you'll have folium 0.8.3 which is incompatible.\u001b[0m\n",
            "Installing collected packages: urllib3\n",
            "  Found existing installation: urllib3 1.25.7\n",
            "    Uninstalling urllib3-1.25.7:\n",
            "      Successfully uninstalled urllib3-1.25.7\n",
            "Successfully installed urllib3-1.24.3\n"
          ],
          "name": "stdout"
        },
        {
          "output_type": "display_data",
          "data": {
            "application/vnd.colab-display-data+json": {
              "pip_warning": {
                "packages": [
                  "urllib3"
                ]
              }
            }
          },
          "metadata": {
            "tags": []
          }
        }
      ]
    },
    {
      "cell_type": "markdown",
      "metadata": {
        "id": "S7RXeM3Lvny3",
        "colab_type": "text"
      },
      "source": [
        "# Importing & cleaning the dataset"
      ]
    },
    {
      "cell_type": "code",
      "metadata": {
        "id": "EKez1IlRvqvW",
        "colab_type": "code",
        "colab": {}
      },
      "source": [
        "os.environ['KAGGLE_USERNAME'] = \"mporras\"\n",
        "os.environ['KAGGLE_KEY'] = \"023198e337e470888c8f84132d0ad867\""
      ],
      "execution_count": 0,
      "outputs": []
    },
    {
      "cell_type": "code",
      "metadata": {
        "id": "Hofniwc7wOQ9",
        "colab_type": "code",
        "outputId": "bf01ada9-63ca-476b-d415-0efee1d44010",
        "colab": {
          "base_uri": "https://localhost:8080/",
          "height": 68
        }
      },
      "source": [
        "#https://www.kaggle.com/rounakbanik/the-movies-dataset\n",
        "!kaggle datasets download rounakbanik/the-movies-dataset"
      ],
      "execution_count": 6,
      "outputs": [
        {
          "output_type": "stream",
          "text": [
            "Downloading the-movies-dataset.zip to /content\n",
            "100% 228M/228M [00:03<00:00, 79.3MB/s]\n",
            "\n"
          ],
          "name": "stdout"
        }
      ]
    },
    {
      "cell_type": "code",
      "metadata": {
        "id": "570w_5ztwSTv",
        "colab_type": "code",
        "outputId": "f90ebcd3-65b5-400d-ad6b-e85500b284e0",
        "colab": {
          "base_uri": "https://localhost:8080/",
          "height": 153
        }
      },
      "source": [
        "!unzip -o 'the-movies-dataset.zip'"
      ],
      "execution_count": 7,
      "outputs": [
        {
          "output_type": "stream",
          "text": [
            "Archive:  the-movies-dataset.zip\n",
            "  inflating: credits.csv             \n",
            "  inflating: keywords.csv            \n",
            "  inflating: links.csv               \n",
            "  inflating: links_small.csv         \n",
            "  inflating: movies_metadata.csv     \n",
            "  inflating: ratings.csv             \n",
            "  inflating: ratings_small.csv       \n"
          ],
          "name": "stdout"
        }
      ]
    },
    {
      "cell_type": "code",
      "metadata": {
        "id": "8G3iWRqSwVUc",
        "colab_type": "code",
        "outputId": "7855cea8-a9e3-4ef6-d1ee-a610d9651b14",
        "colab": {
          "base_uri": "https://localhost:8080/",
          "height": 187
        }
      },
      "source": [
        "os.listdir()"
      ],
      "execution_count": 8,
      "outputs": [
        {
          "output_type": "execute_result",
          "data": {
            "text/plain": [
              "['.config',\n",
              " 'ratings.csv',\n",
              " 'credits.csv',\n",
              " 'movies_metadata.csv',\n",
              " 'links.csv',\n",
              " 'the-movies-dataset.zip',\n",
              " 'links_small.csv',\n",
              " 'keywords.csv',\n",
              " 'ratings_small.csv',\n",
              " 'sample_data']"
            ]
          },
          "metadata": {
            "tags": []
          },
          "execution_count": 8
        }
      ]
    },
    {
      "cell_type": "code",
      "metadata": {
        "id": "wCRDaPU7wa2d",
        "colab_type": "code",
        "outputId": "06122e67-7763-45c0-f9b6-b6614aa5b4e7",
        "colab": {
          "base_uri": "https://localhost:8080/",
          "height": 289
        }
      },
      "source": [
        "movies = pd.read_csv('movies_metadata.csv')\n",
        "movies.head"
      ],
      "execution_count": 9,
      "outputs": [
        {
          "output_type": "stream",
          "text": [
            "/usr/local/lib/python3.6/dist-packages/IPython/core/interactiveshell.py:2718: DtypeWarning: Columns (10) have mixed types. Specify dtype option on import or set low_memory=False.\n",
            "  interactivity=interactivity, compiler=compiler, result=result)\n"
          ],
          "name": "stderr"
        },
        {
          "output_type": "execute_result",
          "data": {
            "text/plain": [
              "<bound method NDFrame.head of        adult  ... vote_count\n",
              "0      False  ...     5415.0\n",
              "1      False  ...     2413.0\n",
              "2      False  ...       92.0\n",
              "3      False  ...       34.0\n",
              "4      False  ...      173.0\n",
              "...      ...  ...        ...\n",
              "45461  False  ...        1.0\n",
              "45462  False  ...        3.0\n",
              "45463  False  ...        6.0\n",
              "45464  False  ...        0.0\n",
              "45465  False  ...        0.0\n",
              "\n",
              "[45466 rows x 24 columns]>"
            ]
          },
          "metadata": {
            "tags": []
          },
          "execution_count": 9
        }
      ]
    },
    {
      "cell_type": "code",
      "metadata": {
        "id": "0dUoRzAtwdAD",
        "colab_type": "code",
        "outputId": "edfd5165-47ec-4ca5-9fa6-cec5b6c5ab9a",
        "colab": {
          "base_uri": "https://localhost:8080/",
          "height": 136
        }
      },
      "source": [
        "movies.columns"
      ],
      "execution_count": 10,
      "outputs": [
        {
          "output_type": "execute_result",
          "data": {
            "text/plain": [
              "Index(['adult', 'belongs_to_collection', 'budget', 'genres', 'homepage', 'id',\n",
              "       'imdb_id', 'original_language', 'original_title', 'overview',\n",
              "       'popularity', 'poster_path', 'production_companies',\n",
              "       'production_countries', 'release_date', 'revenue', 'runtime',\n",
              "       'spoken_languages', 'status', 'tagline', 'title', 'video',\n",
              "       'vote_average', 'vote_count'],\n",
              "      dtype='object')"
            ]
          },
          "metadata": {
            "tags": []
          },
          "execution_count": 10
        }
      ]
    },
    {
      "cell_type": "code",
      "metadata": {
        "id": "YqRkKJfzwfRr",
        "colab_type": "code",
        "outputId": "f22e4b6e-2903-4da7-c880-f06b4f2b87b0",
        "colab": {
          "base_uri": "https://localhost:8080/",
          "height": 221
        }
      },
      "source": [
        "movies.genres"
      ],
      "execution_count": 11,
      "outputs": [
        {
          "output_type": "execute_result",
          "data": {
            "text/plain": [
              "0        [{'id': 16, 'name': 'Animation'}, {'id': 35, '...\n",
              "1        [{'id': 12, 'name': 'Adventure'}, {'id': 14, '...\n",
              "2        [{'id': 10749, 'name': 'Romance'}, {'id': 35, ...\n",
              "3        [{'id': 35, 'name': 'Comedy'}, {'id': 18, 'nam...\n",
              "4                           [{'id': 35, 'name': 'Comedy'}]\n",
              "                               ...                        \n",
              "45461    [{'id': 18, 'name': 'Drama'}, {'id': 10751, 'n...\n",
              "45462                        [{'id': 18, 'name': 'Drama'}]\n",
              "45463    [{'id': 28, 'name': 'Action'}, {'id': 18, 'nam...\n",
              "45464                                                   []\n",
              "45465                                                   []\n",
              "Name: genres, Length: 45466, dtype: object"
            ]
          },
          "metadata": {
            "tags": []
          },
          "execution_count": 11
        }
      ]
    },
    {
      "cell_type": "code",
      "metadata": {
        "id": "uvGKeUAfwhR6",
        "colab_type": "code",
        "outputId": "05080e07-a562-4cca-e3fc-ea41d6251228",
        "colab": {
          "base_uri": "https://localhost:8080/",
          "height": 221
        }
      },
      "source": [
        "movies.overview"
      ],
      "execution_count": 12,
      "outputs": [
        {
          "output_type": "execute_result",
          "data": {
            "text/plain": [
              "0        Led by Woody, Andy's toys live happily in his ...\n",
              "1        When siblings Judy and Peter discover an encha...\n",
              "2        A family wedding reignites the ancient feud be...\n",
              "3        Cheated on, mistreated and stepped on, the wom...\n",
              "4        Just when George Banks has recovered from his ...\n",
              "                               ...                        \n",
              "45461          Rising and falling between a man and woman.\n",
              "45462    An artist struggles to finish his work while a...\n",
              "45463    When one of her hits goes wrong, a professiona...\n",
              "45464    In a small town live two brothers, one a minis...\n",
              "45465    50 years after decriminalisation of homosexual...\n",
              "Name: overview, Length: 45466, dtype: object"
            ]
          },
          "metadata": {
            "tags": []
          },
          "execution_count": 12
        }
      ]
    },
    {
      "cell_type": "code",
      "metadata": {
        "id": "TkqEZNp7wk83",
        "colab_type": "code",
        "colab": {}
      },
      "source": [
        "# here we clean the data\n",
        "\n",
        "movies = movies[movies['imdb_id'] != '0']\n",
        "movies = movies[movies['genres'] != \"[]\"]\n",
        "movies = movies[~pd.isna(movies['overview'])]\n",
        "\n",
        "overview = movies['overview']\n",
        "genres = movies['genres']\n",
        "\n",
        "dataset = movies[['overview', 'genres']] "
      ],
      "execution_count": 0,
      "outputs": []
    },
    {
      "cell_type": "code",
      "metadata": {
        "id": "HD60Qb5Xws3a",
        "colab_type": "code",
        "outputId": "925742d1-12b5-4b7c-a54a-f97c4b8a6a27",
        "colab": {
          "base_uri": "https://localhost:8080/",
          "height": 34
        }
      },
      "source": [
        "len(dataset)"
      ],
      "execution_count": 14,
      "outputs": [
        {
          "output_type": "execute_result",
          "data": {
            "text/plain": [
              "42324"
            ]
          },
          "metadata": {
            "tags": []
          },
          "execution_count": 14
        }
      ]
    },
    {
      "cell_type": "code",
      "metadata": {
        "id": "vK8c28-0wzIU",
        "colab_type": "code",
        "outputId": "954dea45-b4b9-4e6e-feeb-5ac082be736e",
        "colab": {
          "base_uri": "https://localhost:8080/",
          "height": 34
        }
      },
      "source": [
        "CLASS_NAMES = ['Drama','Comedy','Thriller','Romance','Action']\n",
        "CLASS_COUNT = len(CLASS_NAMES)\n",
        "CLASS_COUNT"
      ],
      "execution_count": 15,
      "outputs": [
        {
          "output_type": "execute_result",
          "data": {
            "text/plain": [
              "5"
            ]
          },
          "metadata": {
            "tags": []
          },
          "execution_count": 15
        }
      ]
    },
    {
      "cell_type": "code",
      "metadata": {
        "id": "4L_R24D-w347",
        "colab_type": "code",
        "outputId": "217ad07d-ae57-445c-a33f-9dadfb7e12c2",
        "colab": {
          "base_uri": "https://localhost:8080/",
          "height": 34
        }
      },
      "source": [
        "dataset.iloc[0]['genres']"
      ],
      "execution_count": 16,
      "outputs": [
        {
          "output_type": "execute_result",
          "data": {
            "text/plain": [
              "\"[{'id': 16, 'name': 'Animation'}, {'id': 35, 'name': 'Comedy'}, {'id': 10751, 'name': 'Family'}]\""
            ]
          },
          "metadata": {
            "tags": []
          },
          "execution_count": 16
        }
      ]
    },
    {
      "cell_type": "code",
      "metadata": {
        "id": "kx7SXTJOxGg4",
        "colab_type": "code",
        "outputId": "65ecfa7f-a964-4e27-89e2-cd647607dbac",
        "colab": {
          "base_uri": "https://localhost:8080/",
          "height": 119
        }
      },
      "source": [
        "dataset['genres'].replace(\"\\'\", \"\\\"\", regex=True, inplace=True)\n",
        "dataset.iloc[0]['genres']"
      ],
      "execution_count": 17,
      "outputs": [
        {
          "output_type": "stream",
          "text": [
            "/usr/local/lib/python3.6/dist-packages/pandas/core/generic.py:6786: SettingWithCopyWarning: \n",
            "A value is trying to be set on a copy of a slice from a DataFrame\n",
            "\n",
            "See the caveats in the documentation: http://pandas.pydata.org/pandas-docs/stable/user_guide/indexing.html#returning-a-view-versus-a-copy\n",
            "  self._update_inplace(new_data)\n"
          ],
          "name": "stderr"
        },
        {
          "output_type": "execute_result",
          "data": {
            "text/plain": [
              "'[{\"id\": 16, \"name\": \"Animation\"}, {\"id\": 35, \"name\": \"Comedy\"}, {\"id\": 10751, \"name\": \"Family\"}]'"
            ]
          },
          "metadata": {
            "tags": []
          },
          "execution_count": 17
        }
      ]
    },
    {
      "cell_type": "code",
      "metadata": {
        "id": "hXRGYY30xNmt",
        "colab_type": "code",
        "colab": {}
      },
      "source": [
        "#genre_to_id = dict()\n",
        "label_count = dict()\n",
        "\n",
        "def genre_to_list(str_genre):\n",
        "  keep = True\n",
        "  genre_list = list(map(lambda genre:genre['name'],json.loads(str_genre)))\n",
        "  \n",
        "  for genre in genre_list:\n",
        "    count = label_count.get(genre, 0) + 1\n",
        "    label_count[genre] = count\n",
        "    if (count > 5000):\n",
        "      keep = False\n",
        "    #if (genre_to_id.get(genre,-1) == -1):\n",
        "    #  genre_to_id[genre] = len(genre_to_id.keys())\n",
        "  genres_as_ids = list(map(lambda x: CLASS_NAMES.index(x), filter(lambda x: x in CLASS_NAMES, genre_list)))\n",
        "  #genres_as_ids = list(map(lambda x:genre_to_id[x], genre_list)) \n",
        "  genres_one_hot = list()\n",
        "\n",
        "  if (len(genres_as_ids) > 0 and keep):\n",
        "    genres_one_hot = tf.keras.utils.to_categorical(genres_as_ids, CLASS_COUNT, dtype='int')\n",
        "    genres_one_hot = functools.reduce(lambda x,y : x+y,genres_one_hot)\n",
        "\n",
        "  return genres_one_hot"
      ],
      "execution_count": 0,
      "outputs": []
    },
    {
      "cell_type": "code",
      "metadata": {
        "id": "VIJdB4xCxazv",
        "colab_type": "code",
        "outputId": "bd7edfc2-fd7b-43e9-c9a4-933b801f4f05",
        "colab": {
          "base_uri": "https://localhost:8080/",
          "height": 136
        }
      },
      "source": [
        "dataset['genres'] = dataset['genres'].apply(lambda x: genre_to_list(x))\n",
        "dataset.iloc[0]['genres']"
      ],
      "execution_count": 19,
      "outputs": [
        {
          "output_type": "stream",
          "text": [
            "/usr/local/lib/python3.6/dist-packages/ipykernel_launcher.py:1: SettingWithCopyWarning: \n",
            "A value is trying to be set on a copy of a slice from a DataFrame.\n",
            "Try using .loc[row_indexer,col_indexer] = value instead\n",
            "\n",
            "See the caveats in the documentation: http://pandas.pydata.org/pandas-docs/stable/user_guide/indexing.html#returning-a-view-versus-a-copy\n",
            "  \"\"\"Entry point for launching an IPython kernel.\n"
          ],
          "name": "stderr"
        },
        {
          "output_type": "execute_result",
          "data": {
            "text/plain": [
              "array([0, 1, 0, 0, 0])"
            ]
          },
          "metadata": {
            "tags": []
          },
          "execution_count": 19
        }
      ]
    },
    {
      "cell_type": "code",
      "metadata": {
        "id": "UoCeNCqexqrA",
        "colab_type": "code",
        "outputId": "99a92ce5-3cc4-462f-f686-3343427011d9",
        "colab": {
          "base_uri": "https://localhost:8080/",
          "height": 34
        }
      },
      "source": [
        "dataset = dataset[~dataset['genres'].str.len().eq(0)]\n",
        "len(dataset)"
      ],
      "execution_count": 20,
      "outputs": [
        {
          "output_type": "execute_result",
          "data": {
            "text/plain": [
              "11869"
            ]
          },
          "metadata": {
            "tags": []
          },
          "execution_count": 20
        }
      ]
    },
    {
      "cell_type": "code",
      "metadata": {
        "id": "_bZ5kbaRxsTU",
        "colab_type": "code",
        "outputId": "f5edfe5f-a35f-48aa-f619-580efe8d6375",
        "colab": {
          "base_uri": "https://localhost:8080/",
          "height": 357
        }
      },
      "source": [
        "sorted(label_count.items(), key=lambda x: x[1], reverse=True)"
      ],
      "execution_count": 21,
      "outputs": [
        {
          "output_type": "execute_result",
          "data": {
            "text/plain": [
              "[('Drama', 20023),\n",
              " ('Comedy', 12806),\n",
              " ('Thriller', 7586),\n",
              " ('Romance', 6673),\n",
              " ('Action', 6565),\n",
              " ('Horror', 4660),\n",
              " ('Crime', 4269),\n",
              " ('Documentary', 3886),\n",
              " ('Adventure', 3470),\n",
              " ('Science Fiction', 3028),\n",
              " ('Family', 2732),\n",
              " ('Mystery', 2451),\n",
              " ('Fantasy', 2290),\n",
              " ('Animation', 1920),\n",
              " ('Foreign', 1599),\n",
              " ('Music', 1588),\n",
              " ('History', 1379),\n",
              " ('War', 1310),\n",
              " ('Western', 1035),\n",
              " ('TV Movie', 751)]"
            ]
          },
          "metadata": {
            "tags": []
          },
          "execution_count": 21
        }
      ]
    },
    {
      "cell_type": "markdown",
      "metadata": {
        "id": "MsxuqScnyOWs",
        "colab_type": "text"
      },
      "source": [
        "# Split dataset into training and testing"
      ]
    },
    {
      "cell_type": "code",
      "metadata": {
        "id": "vLVCsIvLySMu",
        "colab_type": "code",
        "outputId": "c8259427-0481-4ae0-c76b-8dfe55530caf",
        "colab": {
          "base_uri": "https://localhost:8080/",
          "height": 34
        }
      },
      "source": [
        "train_split = dataset.sample(frac = 0.7,random_state=42)\n",
        "test_split = dataset.drop(train_split.index).sample(frac = 0.5)\n",
        "validation_split = dataset.drop(train_split.index).drop(test_split.index)\n",
        "\n",
        "train_split.shape, validation_split.shape, test_split.shape"
      ],
      "execution_count": 22,
      "outputs": [
        {
          "output_type": "execute_result",
          "data": {
            "text/plain": [
              "((8308, 2), (1781, 2), (1780, 2))"
            ]
          },
          "metadata": {
            "tags": []
          },
          "execution_count": 22
        }
      ]
    },
    {
      "cell_type": "code",
      "metadata": {
        "id": "SQMqxHsZyfXQ",
        "colab_type": "code",
        "outputId": "f43bfc17-5014-4dde-bcf7-074d80e23adb",
        "colab": {
          "base_uri": "https://localhost:8080/",
          "height": 68
        }
      },
      "source": [
        "train_split.iloc[0]"
      ],
      "execution_count": 23,
      "outputs": [
        {
          "output_type": "execute_result",
          "data": {
            "text/plain": [
              "overview    Christopher Walken shines in this cult-favorit...\n",
              "genres                                        [1, 1, 1, 0, 1]\n",
              "Name: 1701, dtype: object"
            ]
          },
          "metadata": {
            "tags": []
          },
          "execution_count": 23
        }
      ]
    },
    {
      "cell_type": "code",
      "metadata": {
        "id": "M6y11M0Pygzy",
        "colab_type": "code",
        "outputId": "ecfce23a-14a3-4573-86bb-33c0b0bd9c8f",
        "colab": {
          "base_uri": "https://localhost:8080/",
          "height": 34
        }
      },
      "source": [
        "train_labels = train_split['genres']\n",
        "test_labels = test_split['genres']\n",
        "validation_labels = validation_split['genres']\n",
        "train_labels.shape, test_labels.shape, validation_labels.shape"
      ],
      "execution_count": 24,
      "outputs": [
        {
          "output_type": "execute_result",
          "data": {
            "text/plain": [
              "((8308,), (1780,), (1781,))"
            ]
          },
          "metadata": {
            "tags": []
          },
          "execution_count": 24
        }
      ]
    },
    {
      "cell_type": "code",
      "metadata": {
        "id": "ClyU9JUUyiin",
        "colab_type": "code",
        "outputId": "e30479dd-b8ac-4bd6-c064-bab4d4540e99",
        "colab": {
          "base_uri": "https://localhost:8080/",
          "height": 51
        }
      },
      "source": [
        "train_dataset = tf.data.Dataset.from_tensor_slices((train_split['overview'], train_split['genres']))\n",
        "test_dataset = tf.data.Dataset.from_tensor_slices((test_split['overview'], test_split['genres']))\n",
        "validation_dataset = tf.data.Dataset.from_tensor_slices((validation_split['overview'], validation_split['genres']))\n",
        "train_dataset.element_spec"
      ],
      "execution_count": 25,
      "outputs": [
        {
          "output_type": "execute_result",
          "data": {
            "text/plain": [
              "(TensorSpec(shape=(), dtype=tf.string, name=None),\n",
              " TensorSpec(shape=(5,), dtype=tf.int32, name=None))"
            ]
          },
          "metadata": {
            "tags": []
          },
          "execution_count": 25
        }
      ]
    },
    {
      "cell_type": "code",
      "metadata": {
        "id": "6TvlvS5EympW",
        "colab_type": "code",
        "outputId": "3bdf73b6-d642-4ba3-b128-99fadabfcdb2",
        "colab": {
          "base_uri": "https://localhost:8080/",
          "height": 71
        }
      },
      "source": [
        "overview, genres = next(iter(train_dataset))\n",
        "overview, genres"
      ],
      "execution_count": 26,
      "outputs": [
        {
          "output_type": "execute_result",
          "data": {
            "text/plain": [
              "(<tf.Tensor: shape=(), dtype=string, numpy=b'Christopher Walken shines in this cult-favorite dark comedy as Charlie, a former mobster who is abducted by five privileged young men (Sean Patrick Flanery, Johnny Galecki, Jay Mohr, Jeremy Sisto, Henry Thomas) desperate to raise a $2 million ransom to save the sister of a friend. As Charlie plays mind games, however, his captors splinter -- each wondering whether one of their own had a hand in the crime.'>,\n",
              " <tf.Tensor: shape=(5,), dtype=int32, numpy=array([1, 1, 1, 0, 1], dtype=int32)>)"
            ]
          },
          "metadata": {
            "tags": []
          },
          "execution_count": 26
        }
      ]
    },
    {
      "cell_type": "code",
      "metadata": {
        "id": "H9PgOSXNyog8",
        "colab_type": "code",
        "colab": {}
      },
      "source": [
        "batch_size = 128\n",
        "shuffle_buffer_size = 1000"
      ],
      "execution_count": 0,
      "outputs": []
    },
    {
      "cell_type": "code",
      "metadata": {
        "id": "Ew3QXmDlytvZ",
        "colab_type": "code",
        "colab": {}
      },
      "source": [
        "train_dataset = train_dataset.shuffle(shuffle_buffer_size).repeat().batch(batch_size)\n",
        "validation_dataset = validation_dataset.shuffle(shuffle_buffer_size).batch(batch_size)\n",
        "test_dataset = test_dataset.shuffle(shuffle_buffer_size).batch(batch_size)"
      ],
      "execution_count": 0,
      "outputs": []
    },
    {
      "cell_type": "code",
      "metadata": {
        "id": "osvYh5lHyvDO",
        "colab_type": "code",
        "outputId": "464acbcc-f343-4864-afe0-c2f03c054818",
        "colab": {
          "base_uri": "https://localhost:8080/",
          "height": 34
        }
      },
      "source": [
        "overview, genres = next(iter(train_dataset))\n",
        "overview.shape, genres.shape"
      ],
      "execution_count": 29,
      "outputs": [
        {
          "output_type": "execute_result",
          "data": {
            "text/plain": [
              "(TensorShape([128]), TensorShape([128, 5]))"
            ]
          },
          "metadata": {
            "tags": []
          },
          "execution_count": 29
        }
      ]
    },
    {
      "cell_type": "markdown",
      "metadata": {
        "id": "U91lHz-celPD",
        "colab_type": "text"
      },
      "source": [
        "# Model Creation"
      ]
    },
    {
      "cell_type": "code",
      "metadata": {
        "id": "py1lfk3mepDp",
        "colab_type": "code",
        "colab": {}
      },
      "source": [
        "epochs = 20\n",
        "train_steps = 10\n",
        "validation_steps = 5"
      ],
      "execution_count": 0,
      "outputs": []
    },
    {
      "cell_type": "code",
      "metadata": {
        "id": "VlwEkeEFex0Y",
        "colab_type": "code",
        "colab": {}
      },
      "source": [
        "# https://tfhub.dev/tensorflow/tfjs-model/toxicity/1/default/1\n",
        "embedding = \"https://tfhub.dev/google/tf2-preview/gnews-swivel-20dim/1\"\n",
        "hub_layer = hub.KerasLayer(embedding, input_shape=[], \n",
        "                           dtype=tf.string, trainable=False)"
      ],
      "execution_count": 0,
      "outputs": []
    },
    {
      "cell_type": "code",
      "metadata": {
        "id": "fkejdym-e6Bq",
        "colab_type": "code",
        "colab": {
          "base_uri": "https://localhost:8080/",
          "height": 289
        },
        "outputId": "3cb7ada6-94ce-482a-f6bf-56b7f8eb092f"
      },
      "source": [
        "model = tf.keras.Sequential([\n",
        "                             hub_layer,\n",
        "                             Flatten(),\n",
        "                             Dense(128, activation='relu'),  \n",
        "                             Dense(CLASS_COUNT, activation='sigmoid'),\n",
        "])\n",
        "\n",
        "model.summary()"
      ],
      "execution_count": 32,
      "outputs": [
        {
          "output_type": "stream",
          "text": [
            "Model: \"sequential\"\n",
            "_________________________________________________________________\n",
            "Layer (type)                 Output Shape              Param #   \n",
            "=================================================================\n",
            "keras_layer (KerasLayer)     (None, 20)                400020    \n",
            "_________________________________________________________________\n",
            "flatten (Flatten)            (None, 20)                0         \n",
            "_________________________________________________________________\n",
            "dense (Dense)                (None, 128)               2688      \n",
            "_________________________________________________________________\n",
            "dense_1 (Dense)              (None, 5)                 645       \n",
            "=================================================================\n",
            "Total params: 403,353\n",
            "Trainable params: 3,333\n",
            "Non-trainable params: 400,020\n",
            "_________________________________________________________________\n"
          ],
          "name": "stdout"
        }
      ]
    },
    {
      "cell_type": "code",
      "metadata": {
        "id": "838ocbOzfCZz",
        "colab_type": "code",
        "colab": {}
      },
      "source": [
        "model.compile(optimizer='adam',\n",
        "              loss='binary_crossentropy',\n",
        "              metrics=['accuracy'])"
      ],
      "execution_count": 0,
      "outputs": []
    },
    {
      "cell_type": "code",
      "metadata": {
        "id": "F3H972UFfDWQ",
        "colab_type": "code",
        "colab": {
          "base_uri": "https://localhost:8080/",
          "height": 714
        },
        "outputId": "3b98a10d-f651-449a-9701-2feaa00c9fda"
      },
      "source": [
        "history = model.fit(train_dataset,\n",
        "                    epochs=epochs,\n",
        "                    steps_per_epoch=4,\n",
        "                    validation_data=validation_dataset,\n",
        "                    validation_steps=validation_steps\n",
        "                   )   "
      ],
      "execution_count": 35,
      "outputs": [
        {
          "output_type": "stream",
          "text": [
            "Train for 4 steps, validate for 5 steps\n",
            "Epoch 1/20\n",
            "4/4 [==============================] - 1s 197ms/step - loss: 0.7355 - accuracy: 0.5629 - val_loss: 0.6599 - val_accuracy: 0.6478\n",
            "Epoch 2/20\n",
            "4/4 [==============================] - 0s 17ms/step - loss: 0.6693 - accuracy: 0.6273 - val_loss: 0.6219 - val_accuracy: 0.6713\n",
            "Epoch 3/20\n",
            "4/4 [==============================] - 0s 16ms/step - loss: 0.6377 - accuracy: 0.6477 - val_loss: 0.6053 - val_accuracy: 0.6878\n",
            "Epoch 4/20\n",
            "4/4 [==============================] - 0s 16ms/step - loss: 0.6092 - accuracy: 0.6848 - val_loss: 0.6005 - val_accuracy: 0.6828\n",
            "Epoch 5/20\n",
            "4/4 [==============================] - 0s 16ms/step - loss: 0.5955 - accuracy: 0.6984 - val_loss: 0.6095 - val_accuracy: 0.6744\n",
            "Epoch 6/20\n",
            "4/4 [==============================] - 0s 18ms/step - loss: 0.5985 - accuracy: 0.6887 - val_loss: 0.6026 - val_accuracy: 0.6791\n",
            "Epoch 7/20\n",
            "4/4 [==============================] - 0s 17ms/step - loss: 0.5993 - accuracy: 0.6848 - val_loss: 0.5926 - val_accuracy: 0.6819\n",
            "Epoch 8/20\n",
            "4/4 [==============================] - 0s 18ms/step - loss: 0.5931 - accuracy: 0.6879 - val_loss: 0.5922 - val_accuracy: 0.6828\n",
            "Epoch 9/20\n",
            "4/4 [==============================] - 0s 18ms/step - loss: 0.5879 - accuracy: 0.6953 - val_loss: 0.5878 - val_accuracy: 0.6819\n",
            "Epoch 10/20\n",
            "4/4 [==============================] - 0s 17ms/step - loss: 0.5834 - accuracy: 0.7000 - val_loss: 0.5778 - val_accuracy: 0.6978\n",
            "Epoch 11/20\n",
            "4/4 [==============================] - 0s 16ms/step - loss: 0.5811 - accuracy: 0.6996 - val_loss: 0.5708 - val_accuracy: 0.6994\n",
            "Epoch 12/20\n",
            "4/4 [==============================] - 0s 16ms/step - loss: 0.5796 - accuracy: 0.7012 - val_loss: 0.5710 - val_accuracy: 0.7047\n",
            "Epoch 13/20\n",
            "4/4 [==============================] - 0s 16ms/step - loss: 0.5716 - accuracy: 0.7055 - val_loss: 0.5612 - val_accuracy: 0.7122\n",
            "Epoch 14/20\n",
            "4/4 [==============================] - 0s 16ms/step - loss: 0.5746 - accuracy: 0.7070 - val_loss: 0.5612 - val_accuracy: 0.7097\n",
            "Epoch 15/20\n",
            "4/4 [==============================] - 0s 17ms/step - loss: 0.5730 - accuracy: 0.7141 - val_loss: 0.5668 - val_accuracy: 0.7034\n",
            "Epoch 16/20\n",
            "4/4 [==============================] - 0s 16ms/step - loss: 0.5703 - accuracy: 0.7098 - val_loss: 0.5712 - val_accuracy: 0.7028\n",
            "Epoch 17/20\n",
            "4/4 [==============================] - 0s 16ms/step - loss: 0.5639 - accuracy: 0.7141 - val_loss: 0.5619 - val_accuracy: 0.7044\n",
            "Epoch 18/20\n",
            "4/4 [==============================] - 0s 20ms/step - loss: 0.5608 - accuracy: 0.7172 - val_loss: 0.5626 - val_accuracy: 0.7084\n",
            "Epoch 19/20\n",
            "4/4 [==============================] - 0s 18ms/step - loss: 0.5666 - accuracy: 0.7051 - val_loss: 0.5661 - val_accuracy: 0.7019\n",
            "Epoch 20/20\n",
            "4/4 [==============================] - 0s 18ms/step - loss: 0.5712 - accuracy: 0.6996 - val_loss: 0.5565 - val_accuracy: 0.7109\n"
          ],
          "name": "stdout"
        }
      ]
    },
    {
      "cell_type": "markdown",
      "metadata": {
        "id": "7JI77qxffdkY",
        "colab_type": "text"
      },
      "source": [
        "# Validation"
      ]
    },
    {
      "cell_type": "code",
      "metadata": {
        "id": "KF7qGzceffQA",
        "colab_type": "code",
        "colab": {
          "base_uri": "https://localhost:8080/",
          "height": 621
        },
        "outputId": "8a65cd3b-3ff1-4eed-dcb4-84ab11e188b6"
      },
      "source": [
        "acc = history.history['accuracy']\n",
        "val_acc = history.history['val_accuracy']\n",
        "\n",
        "loss = history.history['loss']\n",
        "val_loss = history.history['val_loss']\n",
        "\n",
        "plt.figure(figsize=(10, 10))\n",
        "plt.subplot(2, 1, 1)\n",
        "plt.plot(acc, label='Training Accuracy')\n",
        "plt.plot(val_acc, label='Validation Accuracy')\n",
        "plt.legend(loc='lower right')\n",
        "plt.setp(plt.legend().get_texts(), color='black')\n",
        "plt.ylabel('Accuracy')\n",
        "plt.ylim([min(plt.ylim()),1.0])\n",
        "plt.title('Training and Validation Accuracy')\n",
        "\n",
        "plt.subplot(2, 1, 2)\n",
        "plt.plot(loss, label='Training Loss')\n",
        "plt.plot(val_loss, label='Validation Loss')\n",
        "plt.legend(loc='upper right')\n",
        "plt.setp(plt.legend().get_texts(), color='black')\n",
        "plt.ylabel('Cross Entropy')\n",
        "plt.ylim([0.0,1.0])\n",
        "plt.title('Training and Validation Loss')\n",
        "plt.xlabel('epoch')\n",
        "plt.show()"
      ],
      "execution_count": 36,
      "outputs": [
        {
          "output_type": "display_data",
          "data": {
            "image/png": "[encoded data removed]",
            "text/plain": [
              "<Figure size 720x720 with 2 Axes>"
            ]
          },
          "metadata": {
            "tags": []
          }
        }
      ]
    },
    {
      "cell_type": "code",
      "metadata": {
        "id": "_LQf1mVrfk1R",
        "colab_type": "code",
        "colab": {
          "base_uri": "https://localhost:8080/",
          "height": 51
        },
        "outputId": "5445a842-3989-45a5-bdb5-c82d7589fb58"
      },
      "source": [
        "test_loss, test_acc = model.evaluate(test_dataset, verbose=3)\n",
        "\n",
        "print('Loss:', test_loss)\n",
        "print('Accuracy:', test_acc)"
      ],
      "execution_count": 39,
      "outputs": [
        {
          "output_type": "stream",
          "text": [
            "Loss: 0.5557797764028821\n",
            "Accuracy: 0.7144944\n"
          ],
          "name": "stdout"
        }
      ]
    }
  ]
}